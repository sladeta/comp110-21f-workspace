{
 "cells": [
  {
   "cell_type": "markdown",
   "metadata": {},
   "source": [
    "# PJ01 : Choose Your Own Analysis\n",
    "\n",
    "My question of interest for this project is evaluating whether students from the In-Person or Remote sections attend office hours more on average. My hypothesis is that students from the In-Person class attend office hours more on average because they may prefer to be more actively engaged with the course more than students who chose to attend a more asynchronous section."
   ]
  },
  {
   "cell_type": "markdown",
   "metadata": {},
   "source": [
    "The code below will help to automatically reload any changes I make and to save them in modules that I have imported"
   ]
  },
  {
   "cell_type": "code",
   "execution_count": 4,
   "metadata": {},
   "outputs": [],
   "source": [
    "__author__ = \"730236019\""
   ]
  },
  {
   "cell_type": "code",
   "execution_count": 5,
   "metadata": {},
   "outputs": [],
   "source": [
    "%reload_ext autoreload\n",
    "%autoreload 2"
   ]
  },
  {
   "cell_type": "markdown",
   "metadata": {},
   "source": [
    "## Step 1: Setting Up the Data\n",
    "\n",
    "First, I will need to read the csv survey and convert it into a list of rows. This will help me choose the useful columns for my analysis including the section of students and the amount of office hour visits on average. Next, I will need to convert the table made of lists of rows into a dictionary of columns.\n",
    "\n",
    "Both of these conversions will allow me to more easily analyze the data through functions which are row-oriented or column-oriented.\n",
    "\n"
   ]
  },
  {
   "cell_type": "code",
   "execution_count": 6,
   "metadata": {},
   "outputs": [],
   "source": [
    "from data_utils import read_csv_rows, columnar\n",
    "\n",
    "data_rows: list[dict[str, str]] = read_csv_rows('../../data/survey.csv')\n",
    "columns: dict[str, list[str]] = columnar(data_rows)"
   ]
  },
  {
   "cell_type": "markdown",
   "metadata": {},
   "source": [
    "## Step 2: Selecting from a Data Table\n",
    "\n",
    "Next, I neeed to determine which two columns will represent the section of students and their respective visits to office hours by printing a dictionary of all columns. "
   ]
  },
  {
   "cell_type": "code",
   "execution_count": 7,
   "metadata": {},
   "outputs": [
    {
     "name": "stdout",
     "output_type": "stream",
     "text": [
      "{'row_number': ['0'], 'year': ['23'], 'unc_status': ['Returning UNC Student'], 'comp_major': ['No'], 'primary_major': ['Advertising and Public Relations'], 'data_science': ['No'], 'prereqs': ['MATH 129P, MATH 130'], 'prior_exp': ['None to less than one month!'], 'AP_Principles': [''], 'AP_A': [''], 'other_comp': [''], 'prior_time': [''], 'languages': [''], 'section': ['In-Person'], 'in_person_classes': [''], 'hours_online_social': ['3 to 5 hours'], 'hours_online_work': ['3 to 5 hours'], 'lesson_time': ['5'], 'sync_perf': ['2'], 'all_sync': ['2'], 'own_notes': ['4'], 'own_examples': ['2'], 'oh_visits': ['2'], 'ls_effective': ['7'], 'lsqs_effective': ['6'], 'programming_effective': ['6'], 'qz_effective': ['5'], 'oh_effective': ['5'], 'tutoring_effective': [''], 'kaki_effective': ['3'], 'pace': ['5'], 'difficulty': ['5'], 'understanding': ['4'], 'interesting': ['5'], 'valuable': ['6'], 'would_recommend': ['7']}\n"
     ]
    }
   ],
   "source": [
    "from data_utils import head\n",
    "\n",
    "selecting: dict[str, list[str]] = head(columns, 1)\n",
    "\n",
    "print(selecting)"
   ]
  },
  {
   "cell_type": "markdown",
   "metadata": {},
   "source": [
    "## Step 3: Narrowing Down\n",
    "\n",
    "Next, I will use the `section` and `oh_visits` columns from above to display a new table only containing the necessary columns. \n",
    "\n",
    "Note: I've chosen to disply only a few rows to show that I'm on the right path."
   ]
  },
  {
   "cell_type": "code",
   "execution_count": 8,
   "metadata": {},
   "outputs": [
    {
     "data": {
      "text/html": [
       "<table>\n",
       "<thead>\n",
       "<tr><th>section  </th><th style=\"text-align: right;\">  oh_visits</th></tr>\n",
       "</thead>\n",
       "<tbody>\n",
       "<tr><td>In-Person</td><td style=\"text-align: right;\">          2</td></tr>\n",
       "<tr><td>In-Person</td><td style=\"text-align: right;\">          0</td></tr>\n",
       "<tr><td>Remote   </td><td style=\"text-align: right;\">          0</td></tr>\n",
       "<tr><td>         </td><td style=\"text-align: right;\">          4</td></tr>\n",
       "<tr><td>Remote   </td><td style=\"text-align: right;\">          1</td></tr>\n",
       "</tbody>\n",
       "</table>"
      ],
      "text/plain": [
       "'<table>\\n<thead>\\n<tr><th>section  </th><th style=\"text-align: right;\">  oh_visits</th></tr>\\n</thead>\\n<tbody>\\n<tr><td>In-Person</td><td style=\"text-align: right;\">          2</td></tr>\\n<tr><td>In-Person</td><td style=\"text-align: right;\">          0</td></tr>\\n<tr><td>Remote   </td><td style=\"text-align: right;\">          0</td></tr>\\n<tr><td>         </td><td style=\"text-align: right;\">          4</td></tr>\\n<tr><td>Remote   </td><td style=\"text-align: right;\">          1</td></tr>\\n</tbody>\\n</table>'"
      ]
     },
     "execution_count": 8,
     "metadata": {},
     "output_type": "execute_result"
    }
   ],
   "source": [
    "from data_utils import head, select\n",
    "from tabulate import tabulate\n",
    "\n",
    "subset: dict[str, list[str]] = select(columns, [\"section\", \"oh_visits\"])\n",
    "headings: dict[str, list[str]] = head(subset, 5)\n",
    "tabulate(headings, headings.keys(), \"html\")"
   ]
  },
  {
   "cell_type": "markdown",
   "metadata": {},
   "source": [
    "## Step 4: Counting\n",
    "\n",
    "Next, I will use `count` to determine the total number of students enrolled in the \"Remote\" and \"In-Person\" sections. Then, I created `seeker` to determine the number of total office hour visits per assingment in both sections. While these are crucial steps, they are tough to compare since they are not on a per capita basis."
   ]
  },
  {
   "cell_type": "code",
   "execution_count": 9,
   "metadata": {},
   "outputs": [
    {
     "name": "stdout",
     "output_type": "stream",
     "text": [
      "Remote total enrollment: 192 \n",
      "In-Person total enrollment: 350 \n",
      "Total average office hour visits per assignment per section: {'Remote': 246, 'In-Person': 454} \n"
     ]
    },
    {
     "data": {
      "text/plain": [
       "<AxesSubplot:>"
      ]
     },
     "execution_count": 9,
     "metadata": {},
     "output_type": "execute_result"
    },
    {
     "data": {
      "image/png": "[encoded data removed]",
      "text/plain": [
       "<Figure size 432x288 with 1 Axes>"
      ]
     },
     "metadata": {
      "needs_background": "light"
     },
     "output_type": "display_data"
    }
   ],
   "source": [
    "from data_utils import count, seeker\n",
    "counts = count(subset['section'])\n",
    "\n",
    "print(f\"Remote total enrollment: {counts['Remote']} \")\n",
    "print(f\"In-Person total enrollment: {counts['In-Person']} \")\n",
    "\n",
    "visit_count: dict[str, int] = seeker(data_rows, \"oh_visits\", \"section\", \"Remote\", \"In-Person\")\n",
    "\n",
    "print(f\"Total average office hour visits per assignment per section: {visit_count} \")\n",
    "\n",
    "import seaborn\n",
    "\n",
    "seaborn.barplot(x=['Remote Enrollment', 'In-Person Enrollment'], y=[counts['Remote'], counts['In-Person']])"
   ]
  },
  {
   "cell_type": "markdown",
   "metadata": {},
   "source": [
    "## Step 5: Final Comparison on a Per-capita Basis\n",
    "\n",
    "Last step is to determine the average number of office visits per student per assignment in each class to determine who attends more office hours. This step provides a more accurate per-capita comparison since the Remote section is around half the size of the In-Person section. Additionally, I created a function to round these final proportions. \n",
    "\n"
   ]
  },
  {
   "cell_type": "code",
   "execution_count": 11,
   "metadata": {},
   "outputs": [
    {
     "data": {
      "text/plain": [
       "{'Remote': 1.28, 'In-Person': 1.3}"
      ]
     },
     "execution_count": 11,
     "metadata": {},
     "output_type": "execute_result"
    }
   ],
   "source": [
    "from data_utils import calc, rounded, seeker\n",
    "results: dict[str, float] = seeker(data_rows, \"oh_visits\", \"section\", \"Remote\", \"In-Person\")\n",
    "proportions: dict[str, float] = calc(results, \"Remote\", \"In-Person\", 192, 350)\n",
    "rounded(proportions, 2)\n",
    "#print(f\"Final proportion of office hour visits per student in sections: {proportions} \")\n"
   ]
  },
  {
   "cell_type": "markdown",
   "metadata": {},
   "source": [
    "# Conclusion\n",
    "\n",
    "By a slim margin of around .02 visits per person, my hypothesis held true that on average a student within the \"In-Person\" section attends office hours more than a Remote student. Admittingly, I am surprised at how close the margin is as I generally would expect remote students to be much less engaged with the course. However, it appears it may be poor to judge a section's engagement by evaluating their number of office hour visits as opposed to potentially the sections class attendance and/or grades.\n",
    "\n",
    "On another note, I am very interested to see the margin between remote and in-person office hour visits from those sections. Would remote individuals want to stay remote with the course or would they want to engage with UTA's since they don't in-class. "
   ]
  }
 ],
 "metadata": {
  "interpreter": {
   "hash": "aee8b7b246df8f9039afb4144a1f6fd8d2ca17a180786b69acc140d282b71a49"
  },
  "kernelspec": {
   "display_name": "Python 3.9.6 64-bit",
   "name": "python3"
  },
  "language_info": {
   "codemirror_mode": {
    "name": "ipython",
    "version": 3
   },
   "file_extension": ".py",
   "mimetype": "text/x-python",
   "name": "python",
   "nbconvert_exporter": "python",
   "pygments_lexer": "ipython3",
   "version": "3.9.6"
  },
  "orig_nbformat": 4
 },
 "nbformat": 4,
 "nbformat_minor": 2
}
